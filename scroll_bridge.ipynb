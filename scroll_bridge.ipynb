{
 "cells": [
  {
   "cell_type": "code",
   "execution_count": 11,
   "metadata": {},
   "outputs": [],
   "source": [
    "from selenium import webdriver\n",
    "from  pyshadow.main  import  Shadow \n",
    "import time\n",
    "import warnings\n",
    "import os \n",
    "import shutil\n",
    "from selenium.webdriver import Chrome\n",
    "from selenium.webdriver import ChromeOptions\n",
    "import random\n",
    "from selenium.webdriver.common.by import By\n",
    "import json\n",
    "from common_func import CommonFunc\n",
    "warnings.filterwarnings('ignore')\n"
   ]
  },
  {
   "cell_type": "code",
   "execution_count": 12,
   "metadata": {},
   "outputs": [],
   "source": [
    "# 实例化类\n",
    "my_func = CommonFunc()\n",
    "\n",
    "# 打开谷歌浏览器\n",
    "curdir = my_func.get_chrome_data_dir('chrome02')\n",
    "driver = my_func.init_web_driver(curdir)\n",
    "\n"
   ]
  },
  {
   "cell_type": "code",
   "execution_count": 3,
   "metadata": {},
   "outputs": [],
   "source": [
    "# 打开scroll跨链桥\n",
    "driver.get('https://scroll.io/alpha/bridge')"
   ]
  },
  {
   "cell_type": "code",
   "execution_count": 22,
   "metadata": {},
   "outputs": [],
   "source": [
    "# 切换到metamask弹出窗口\n",
    "meta_handle = driver.window_handles[-1]\n",
    "driver.switch_to.window(meta_handle)"
   ]
  },
  {
   "cell_type": "code",
   "execution_count": 23,
   "metadata": {},
   "outputs": [],
   "source": [
    "time.sleep(2)\n",
    "# 登录metamask\n",
    "my_func.send_keys(driver, '.MuiInputBase-input.MuiInput-input','小狐狸钱包登录密码')\n",
    "my_func.press_button(driver, '.button.btn--rounded.btn-default')\n",
    "\n",
    "# 回到主窗口\n",
    "driver.switch_to.window(driver.window_handles[0])"
   ]
  },
  {
   "cell_type": "code",
   "execution_count": 4,
   "metadata": {},
   "outputs": [],
   "source": [
    "# 我们需要查看交易是否成功，selenium不支持点击插件\n",
    "# 我们需要创建一个新窗口来打开小狐狸钱包\n",
    "js = \"window.open('')\"\n",
    "driver.execute_script(js)\n",
    "# 转到最后一页\n",
    "driver.switch_to.window(driver.window_handles[-1])\n"
   ]
  },
  {
   "cell_type": "code",
   "execution_count": 5,
   "metadata": {},
   "outputs": [
    {
     "name": "stdout",
     "output_type": "stream",
     "text": [
      "['9E0CD8A70C476FB2D9E0A37466DF6F62', '2924254319D530D9053382F99CEC0C48']\n"
     ]
    }
   ],
   "source": [
    "# 打开小狐狸钱包扩展界面\n",
    "driver.get('chrome-extension://nkbihfbeogaeaoehlefnkodbefgpgknn/home.html#')\n",
    "# 调起新窗口后需要切换页面 driver.window_handles存储了不同窗口指针\n",
    "print(driver.window_handles)\n"
   ]
  },
  {
   "cell_type": "code",
   "execution_count": 6,
   "metadata": {},
   "outputs": [
    {
     "data": {
      "text/plain": [
       "'0.0834'"
      ]
     },
     "execution_count": 6,
     "metadata": {},
     "output_type": "execute_result"
    }
   ],
   "source": [
    "# 获取余额\n",
    "my_func.get_amount(driver)"
   ]
  },
  {
   "cell_type": "code",
   "execution_count": 7,
   "metadata": {},
   "outputs": [],
   "source": [
    "# 开始跨链\n",
    "driver.switch_to.window(driver.window_handles[0])\n",
    "# 打开scroll跨链桥\n",
    "driver.get('https://scroll.io/alpha/bridge')\n"
   ]
  },
  {
   "cell_type": "code",
   "execution_count": 8,
   "metadata": {},
   "outputs": [
    {
     "data": {
      "text/plain": [
       "True"
      ]
     },
     "execution_count": 8,
     "metadata": {},
     "output_type": "execute_result"
    }
   ],
   "source": [
    "# 输入数量\n",
    "my_func.send_keys(driver, '.MuiInputBase-input.MuiInput-input.css-n5n598-input','0.001')\n"
   ]
  },
  {
   "cell_type": "code",
   "execution_count": 9,
   "metadata": {},
   "outputs": [
    {
     "data": {
      "text/plain": [
       "True"
      ]
     },
     "execution_count": 9,
     "metadata": {},
     "output_type": "execute_result"
    }
   ],
   "source": [
    "# 确认交易\n",
    "my_func.press_button(driver, '.MuiButton-containedSizeMedium.css-1dinhgg')"
   ]
  },
  {
   "cell_type": "code",
   "execution_count": 10,
   "metadata": {},
   "outputs": [
    {
     "name": "stdout",
     "output_type": "stream",
     "text": [
      "['9E0CD8A70C476FB2D9E0A37466DF6F62', '2924254319D530D9053382F99CEC0C48', '7D29061C83250AE5128E27B883678339']\n"
     ]
    }
   ],
   "source": [
    "# 切换到弹出窗口\n",
    "print(driver.window_handles)\n",
    "driver.switch_to.window(driver.window_handles[-1])"
   ]
  },
  {
   "cell_type": "code",
   "execution_count": 18,
   "metadata": {},
   "outputs": [
    {
     "data": {
      "text/plain": [
       "True"
      ]
     },
     "execution_count": 18,
     "metadata": {},
     "output_type": "execute_result"
    }
   ],
   "source": [
    "# 测试点击拒绝\n",
    "# my_func.press_button_from_list_byName(driver, '.btn-secondary', '拒绝')\n",
    "# 测试点击确认\n",
    "my_func.press_button_from_list_byName(driver, '.btn-primary', '确认')"
   ]
  }
 ],
 "metadata": {
  "kernelspec": {
   "display_name": "Python 3.10.7 64-bit",
   "language": "python",
   "name": "python3"
  },
  "language_info": {
   "codemirror_mode": {
    "name": "ipython",
    "version": 3
   },
   "file_extension": ".py",
   "mimetype": "text/x-python",
   "name": "python",
   "nbconvert_exporter": "python",
   "pygments_lexer": "ipython3",
   "version": "3.10.7"
  },
  "orig_nbformat": 4,
  "vscode": {
   "interpreter": {
    "hash": "bc1263cf28e12df12858b2f1f6c076ecfb951b50624047cf4529e4cb3a42ecf6"
   }
  }
 },
 "nbformat": 4,
 "nbformat_minor": 2
}
